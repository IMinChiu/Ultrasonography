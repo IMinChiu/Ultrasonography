{
  "nbformat": 4,
  "nbformat_minor": 0,
  "metadata": {
    "colab": {
      "name": "CNN_3D.ipynb",
      "provenance": [],
      "authorship_tag": "ABX9TyMW3qmSZAJP5Xw5GgH5Po1v",
      "include_colab_link": true
    },
    "kernelspec": {
      "name": "python3",
      "display_name": "Python 3"
    },
    "language_info": {
      "name": "python"
    }
  },
  "cells": [
    {
      "cell_type": "markdown",
      "metadata": {
        "id": "view-in-github",
        "colab_type": "text"
      },
      "source": [
        "<a href=\"https://colab.research.google.com/github/outofray/Ultrasonography/blob/main/CNN_3D.ipynb\" target=\"_parent\"><img src=\"https://colab.research.google.com/assets/colab-badge.svg\" alt=\"Open In Colab\"/></a>"
      ]
    },
    {
      "cell_type": "code",
      "execution_count": null,
      "metadata": {
        "id": "nOZVVYIFlKTI"
      },
      "outputs": [],
      "source": [
        "import numpy as np\n",
        "import tensorflow as tf\n",
        "from tensorflow import keras\n",
        "from tensorflow.keras import layers\n",
        "from tensorflow.keras.models import Sequential"
      ]
    },
    {
      "cell_type": "code",
      "source": [
        "# Load data (3D numpy array)\n",
        "train = np.load('train_data.npz')\n",
        "test = np.load('test_data.npz')\n",
        "\n",
        "X_train = train['x_train']\n",
        "Y_train = train['y_train'].astype('int')\n",
        "X_test = test['x_test']\n",
        "Y_test = test['y_test'].astype('int')\n",
        "\n",
        "print (X_train.shape)\n",
        "print (X_test.shape)"
      ],
      "metadata": {
        "id": "EID0JxwJlQOk"
      },
      "execution_count": null,
      "outputs": []
    },
    {
      "cell_type": "code",
      "source": [
        "# Select batch size and shuffle data\n",
        "train_dataset = tf.data.Dataset.from_tensor_slices((X_train, Y_train))\n",
        "test_dataset = tf.data.Dataset.from_tensor_slices((X_test, Y_test))\n",
        "\n",
        "BATCH_SIZE = 16\n",
        "SHUFFLE_BUFFER_SIZE = 600\n",
        "\n",
        "train_dataset = train_dataset.shuffle(SHUFFLE_BUFFER_SIZE, reshuffle_each_iteration=True).batch(BATCH_SIZE)\n",
        "test_dataset = test_dataset.batch(BATCH_SIZE)"
      ],
      "metadata": {
        "id": "y0CK4DISlYB-"
      },
      "execution_count": null,
      "outputs": []
    },
    {
      "cell_type": "code",
      "source": [
        "# Build 3D CNN model\n",
        "input_shape = (BATCH_SIZE, 8, 320, 320, 3)\n",
        "num_classes = 3\n",
        "\n",
        "model = Sequential([\n",
        "    layers.experimental.preprocessing.Rescaling(1./255, input_shape=input_shape[1:]),\n",
        "    layers.Conv3D(filters=16, kernel_size=(2, 3, 3), padding='same', activation='relu'),\n",
        "    layers.MaxPooling3D(pool_size=(1, 2, 2)),\n",
        "    layers.Conv3D(filters=32, kernel_size=(2, 3, 3), padding='same', activation='relu'),\n",
        "    layers.MaxPooling3D(pool_size=(1, 2, 2)),\n",
        "    layers.Conv3D(filters=64, kernel_size=(2, 3, 3), padding='same', activation='relu'),\n",
        "    layers.MaxPooling3D(pool_size=(1, 2, 2)),\n",
        "    layers.Conv3D(filters=128, kernel_size=(2, 3, 3), padding='same', activation='relu'),\n",
        "    layers.MaxPooling3D(pool_size=(1, 2, 2)),\n",
        "    layers.Conv3D(filters=256, kernel_size=(2, 3, 3), padding='same', activation='relu'),\n",
        "    layers.MaxPooling3D(pool_size=(1, 2, 2)),\n",
        "    layers.Dropout(0.5),\n",
        "    layers.Flatten(),\n",
        "    layers.Dense(128, activation='relu'),\n",
        "    layers.Dropout(0.5),\n",
        "    layers.Dense(num_classes)\n",
        "])"
      ],
      "metadata": {
        "id": "kp1XpfHala9w"
      },
      "execution_count": null,
      "outputs": []
    },
    {
      "cell_type": "code",
      "source": [
        "# Select optimizer\n",
        "optimizer = tf.keras.optimizers.Adam(\n",
        "    learning_rate=1e-5, beta_1=0.9, beta_2=0.999, epsilon=1e-07, amsgrad=False,\n",
        "    name='Adam')\n",
        "\n",
        "# Compile the model\n",
        "model.compile(optimizer=optimizer,\n",
        "              loss=tf.keras.losses.SparseCategoricalCrossentropy(from_logits=True),\n",
        "              metrics=['accuracy'])\n",
        "\n",
        "model.summary()"
      ],
      "metadata": {
        "id": "SCd_SLpUlddK"
      },
      "execution_count": null,
      "outputs": []
    },
    {
      "cell_type": "code",
      "source": [
        "# training process\n",
        "epochs = 20\n",
        "history = model.fit(train_dataset, batch_size=BATCH_SIZE, validation_data=test_dataset, epochs=epochs)"
      ],
      "metadata": {
        "id": "MGvlicuSle9U"
      },
      "execution_count": null,
      "outputs": []
    },
    {
      "cell_type": "code",
      "source": [
        "# plot the training result\n",
        "acc = history.history['accuracy']\n",
        "val_acc = history.history['val_accuracy']\n",
        "\n",
        "loss = history.history['loss']\n",
        "val_loss = history.history['val_loss']\n",
        "\n",
        "epochs_range = range(1, epochs+1)\n",
        "\n",
        "import matplotlib.pyplot as plt\n",
        "plt.figure(figsize=(8, 8))\n",
        "plt.subplot(1, 2, 1)\n",
        "plt.plot(epochs_range, acc, label='Training Accuracy')\n",
        "plt.plot(epochs_range, val_acc, label='Validation Accuracy')\n",
        "plt.legend(loc='lower right')\n",
        "plt.title('Training and Validation Accuracy')\n",
        "\n",
        "plt.subplot(1, 2, 2)\n",
        "plt.plot(epochs_range, loss, label='Training Loss')\n",
        "plt.plot(epochs_range, val_loss, label='Validation Loss')\n",
        "plt.legend(loc='upper right')\n",
        "plt.title('Training and Validation Loss')\n",
        "\n",
        "plt.show()"
      ],
      "metadata": {
        "id": "mTMfySEgllJJ"
      },
      "execution_count": null,
      "outputs": []
    }
  ]
}