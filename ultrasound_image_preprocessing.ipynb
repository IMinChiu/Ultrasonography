{
  "nbformat": 4,
  "nbformat_minor": 0,
  "metadata": {
    "accelerator": "GPU",
    "colab": {
      "name": "ultrasound image preprocessing.ipynb",
      "provenance": [],
      "authorship_tag": "ABX9TyNGXSGvvgs5PM7Dc2iD7VHF"
    },
    "kernelspec": {
      "display_name": "Python 3",
      "name": "python3"
    }
  },
  "cells": [
    {
      "cell_type": "code",
      "metadata": {
        "id": "9mKxJar8a5s4"
      },
      "source": [
        "import cv2\n",
        "import glob"
      ],
      "execution_count": null,
      "outputs": []
    },
    {
      "cell_type": "code",
      "metadata": {
        "colab": {
          "base_uri": "https://localhost:8080/"
        },
        "id": "Z40Y93qfbQ5U",
        "outputId": "59832cb2-b859-497a-d460-1f0df818fd47"
      },
      "source": [
        "from google.colab import drive\n",
        "import os\n",
        "drive.mount('/content/gdrive')"
      ],
      "execution_count": null,
      "outputs": [
        {
          "output_type": "stream",
          "text": [
            "Mounted at /content/gdrive\n"
          ],
          "name": "stdout"
        }
      ]
    },
    {
      "cell_type": "code",
      "metadata": {
        "id": "46bvf9WQbK7-"
      },
      "source": [
        "directory = \"gdrive/MyDrive/morrison pouch/*.jpg\""
      ],
      "execution_count": null,
      "outputs": []
    },
    {
      "cell_type": "code",
      "metadata": {
        "id": "81aaKB0Zbi3v"
      },
      "source": [
        "for file in glob.glob(directory):\n",
        "    img = cv2.imread(file)\n",
        "    x = 140\n",
        "    y = 40\n",
        "    \n",
        "    # 裁切區域的長度與寬度\n",
        "    w = 400\n",
        "    h = 400\n",
        "\n",
        "    crop_img = img[y:y + h, x:x + w]\n",
        "    cv2.imwrite(file, crop_img)"
      ],
      "execution_count": null,
      "outputs": []
    }
  ]
}